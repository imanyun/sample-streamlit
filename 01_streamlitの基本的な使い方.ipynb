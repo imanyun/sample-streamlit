{
 "cells": [
  {
   "cell_type": "markdown",
   "metadata": {},
   "source": [
    "## ■ streamlitの基本的な使い方"
   ]
  },
  {
   "cell_type": "markdown",
   "metadata": {},
   "source": [
    "### インストール\n",
    "\n",
    "```bash\n",
    "pip install streamlit\n",
    "```\n",
    "\n",
    "### サンプルを動かす\n",
    "\n",
    "```bash\n",
    "streamlit hello\n",
    "```\n",
    "\n",
    "\n",
    "### タイトルをつける"
   ]
  },
  {
   "cell_type": "code",
   "execution_count": 2,
   "metadata": {},
   "outputs": [],
   "source": [
    "import streamlit as st\n",
    "import pandas as pd\n",
    "import numpy as np\n"
   ]
  },
  {
   "cell_type": "code",
   "execution_count": null,
   "metadata": {},
   "outputs": [],
   "source": [
    "st.title('My first app')"
   ]
  },
  {
   "cell_type": "markdown",
   "metadata": {},
   "source": [
    "ファイルを実行\n",
    "\n",
    "```bash\n",
    "streamlit run main.py\n",
    "```"
   ]
  },
  {
   "cell_type": "markdown",
   "metadata": {},
   "source": [
    "### データフレームを書く"
   ]
  },
  {
   "cell_type": "code",
   "execution_count": null,
   "metadata": {},
   "outputs": [],
   "source": [
    "st.write(\"データフレーム\")\n",
    "st.write(pd.DataFrame({\n",
    "    'first column': [1, 2, 3, 4],\n",
    "    'second column': [10, 20, 30, 40]\n",
    "}))"
   ]
  },
  {
   "cell_type": "markdown",
   "metadata": {},
   "source": [
    "### マジックコマンド"
   ]
  },
  {
   "cell_type": "code",
   "execution_count": 1,
   "metadata": {},
   "outputs": [
    {
     "data": {
      "text/plain": [
       "'\\n# My first app\\nこんな感じでマジックコマンドを使用できる。Markdown対応。\\n'"
      ]
     },
     "execution_count": 1,
     "metadata": {},
     "output_type": "execute_result"
    }
   ],
   "source": [
    "\"\"\"\n",
    "# My first app\n",
    "こんな感じでマジックコマンドを使用できる。Markdown対応。\n",
    "\"\"\""
   ]
  },
  {
   "cell_type": "markdown",
   "metadata": {},
   "source": [
    "### チャートを書く"
   ]
  },
  {
   "cell_type": "markdown",
   "metadata": {},
   "source": [
    "平均0, 標準偏差1の正規分布から生成される乱数を生成。"
   ]
  },
  {
   "cell_type": "code",
   "execution_count": 3,
   "metadata": {},
   "outputs": [
    {
     "data": {
      "text/plain": [
       "array([[-0.72558358,  0.41841739, -0.23067548],\n",
       "       [-0.47684162,  0.54324318,  0.63314708],\n",
       "       [-0.02612919,  0.29724447,  0.65695855],\n",
       "       [ 0.26253534,  1.01488525, -1.32337841],\n",
       "       [ 0.86358354,  1.17638472, -0.31490658],\n",
       "       [-1.06617872, -2.77324538, -0.26793598],\n",
       "       [-1.86613774,  0.07742392, -2.49480241],\n",
       "       [ 0.80745509,  0.24124748,  0.64516689],\n",
       "       [-1.50337986, -0.23155677,  0.05044589],\n",
       "       [ 0.57724602,  0.61132841,  0.29733682],\n",
       "       [ 0.96838012, -1.00335849,  1.6498738 ],\n",
       "       [-0.52691392,  0.68885035,  1.07592562],\n",
       "       [-0.23662379,  0.66488673, -0.90071542],\n",
       "       [ 0.60633635,  0.34165032, -0.82848126],\n",
       "       [ 1.76192959,  0.88039733,  0.82163323],\n",
       "       [ 1.02571951, -0.46814594, -0.70568533],\n",
       "       [-0.54063141, -1.04430363, -1.31459262],\n",
       "       [-0.72130653, -0.86919886,  0.37122371],\n",
       "       [ 0.52127007, -1.5137768 ,  0.55358934],\n",
       "       [-1.42951645,  0.19088047, -0.28133969]])"
      ]
     },
     "execution_count": 3,
     "metadata": {},
     "output_type": "execute_result"
    }
   ],
   "source": [
    "np.random.randn(20, 3)"
   ]
  },
  {
   "cell_type": "code",
   "execution_count": null,
   "metadata": {},
   "outputs": [],
   "source": [
    "chart_df = pd.DataFrame(\n",
    "     np.random.randn(20, 3),\n",
    "     columns=['a', 'b', 'c'])\n",
    "\n",
    "st.line_chart(chart_df)"
   ]
  },
  {
   "cell_type": "markdown",
   "metadata": {},
   "source": [
    "### インタラクティブなウィジェット"
   ]
  },
  {
   "cell_type": "code",
   "execution_count": null,
   "metadata": {},
   "outputs": [],
   "source": [
    "if st.checkbox('Show dataframe'):\n",
    "    chart_data = pd.DataFrame(\n",
    "       np.random.randn(20, 3),\n",
    "       columns=['a', 'b', 'c'])\n",
    "\n",
    "    st.line_chart(chart_data)"
   ]
  },
  {
   "cell_type": "markdown",
   "metadata": {},
   "source": [
    "### 最終形態"
   ]
  },
  {
   "cell_type": "code",
   "execution_count": null,
   "metadata": {},
   "outputs": [],
   "source": [
    "import streamlit as st\n",
    "import pandas as pd\n",
    "from sklearn import datasets\n",
    "from PIL import Image\n",
    "\n",
    "# st.title('My first app')\n",
    "st.write(\"\"\"\n",
    "# 顔認識アプリ\n",
    "\"\"\")\n",
    "\n",
    "uploaded_file = st.file_uploader(\"Choose an image...\", type=\"jpg\")\n",
    "if uploaded_file is not None:\n",
    "    img = Image.open(uploaded_file)\n",
    "    st.image(img, caption='Uploaded Image.', use_column_width=True)\n",
    "    st.write(\"\")"
   ]
  },
  {
   "cell_type": "code",
   "execution_count": null,
   "metadata": {},
   "outputs": [],
   "source": []
  },
  {
   "cell_type": "code",
   "execution_count": null,
   "metadata": {},
   "outputs": [],
   "source": []
  },
  {
   "cell_type": "code",
   "execution_count": null,
   "metadata": {},
   "outputs": [],
   "source": []
  },
  {
   "cell_type": "code",
   "execution_count": null,
   "metadata": {},
   "outputs": [],
   "source": []
  },
  {
   "cell_type": "code",
   "execution_count": null,
   "metadata": {},
   "outputs": [],
   "source": []
  },
  {
   "cell_type": "code",
   "execution_count": null,
   "metadata": {},
   "outputs": [],
   "source": []
  },
  {
   "cell_type": "code",
   "execution_count": null,
   "metadata": {},
   "outputs": [],
   "source": []
  },
  {
   "cell_type": "code",
   "execution_count": null,
   "metadata": {},
   "outputs": [],
   "source": []
  },
  {
   "cell_type": "code",
   "execution_count": null,
   "metadata": {},
   "outputs": [],
   "source": []
  }
 ],
 "metadata": {
  "kernelspec": {
   "display_name": "Python 3",
   "language": "python",
   "name": "python3"
  },
  "language_info": {
   "codemirror_mode": {
    "name": "ipython",
    "version": 3
   },
   "file_extension": ".py",
   "mimetype": "text/x-python",
   "name": "python",
   "nbconvert_exporter": "python",
   "pygments_lexer": "ipython3",
   "version": "3.7.3"
  }
 },
 "nbformat": 4,
 "nbformat_minor": 2
}
